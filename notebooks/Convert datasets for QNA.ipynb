{
 "cells": [
  {
   "cell_type": "code",
   "execution_count": 3,
   "metadata": {
    "collapsed": false
   },
   "outputs": [],
   "source": [
    "import rpy2.robjects as robjects\n",
    "from rpy2.robjects.packages import importr\n",
    "\n",
    "cdm = importr('CDM')"
   ]
  },
  {
   "cell_type": "code",
   "execution_count": 43,
   "metadata": {
    "collapsed": false
   },
   "outputs": [],
   "source": [
    "def pythonify(r_matrix):\n",
    "    robjects.r('M <- as.matrix(%s)' % r_matrix)\n",
    "    n, m = robjects.r.dim(robjects.r.M)\n",
    "    print('%s has size %s x %s' % (r_matrix, n, m))\n",
    "    return [[robjects.r.M.rx(1 + i, 1 + j)[0] for j in range(m)] for i in range(n)]"
   ]
  },
  {
   "cell_type": "code",
   "execution_count": 44,
   "metadata": {
    "collapsed": false
   },
   "outputs": [
    {
     "name": "stdout",
     "output_type": "stream",
     "text": [
      "fraction.subtraction.qmatrix has size 20 x 8\n"
     ]
    },
    {
     "data": {
      "text/plain": [
       "[[0, 0, 0, 1, 0, 1, 1, 0],\n",
       " [0, 0, 0, 1, 0, 0, 1, 0],\n",
       " [0, 0, 0, 1, 0, 0, 1, 0],\n",
       " [0, 1, 1, 0, 1, 0, 1, 0],\n",
       " [0, 1, 0, 1, 0, 0, 1, 1],\n",
       " [0, 0, 0, 0, 0, 0, 1, 0],\n",
       " [1, 1, 0, 0, 0, 0, 1, 0],\n",
       " [0, 0, 0, 0, 0, 0, 1, 0],\n",
       " [0, 1, 0, 0, 0, 0, 0, 0],\n",
       " [0, 1, 0, 0, 1, 0, 1, 1],\n",
       " [0, 1, 0, 0, 1, 0, 1, 0],\n",
       " [0, 0, 0, 0, 0, 0, 1, 1],\n",
       " [0, 1, 0, 1, 1, 0, 1, 0],\n",
       " [0, 1, 0, 0, 0, 0, 1, 0],\n",
       " [1, 0, 0, 0, 0, 0, 1, 0],\n",
       " [0, 1, 0, 0, 0, 0, 1, 0],\n",
       " [0, 1, 0, 0, 1, 0, 1, 0],\n",
       " [0, 1, 0, 0, 1, 1, 1, 0],\n",
       " [1, 1, 1, 0, 1, 0, 1, 0],\n",
       " [0, 1, 1, 0, 1, 0, 1, 0]]"
      ]
     },
     "execution_count": 44,
     "metadata": {},
     "output_type": "execute_result"
    }
   ],
   "source": [
    "pythonify('fraction.subtraction.qmatrix')"
   ]
  },
  {
   "cell_type": "code",
   "execution_count": 58,
   "metadata": {
    "collapsed": false
   },
   "outputs": [],
   "source": [
    "import json\n",
    "from qmatrix import QMatrix\n",
    "\n",
    "def create_data(dataset_name, data, qmatrix):\n",
    "    py_data = pythonify(data)\n",
    "    py_qmatrix = pythonify(qmatrix)\n",
    "    with open('data/%s.json' % dataset_name, 'w') as f:\n",
    "        f.write(json.dumps({'student_data': py_data}))\n",
    "    robjects.r('mod <- din(%s, q.matrix=%s, rule=\"DINA\")' % (data, qmatrix))\n",
    "    \n",
    "    nb_components = len(py_qmatrix[0])\n",
    "    guess = list(robjects.r('mod$guess$est'))\n",
    "    slip = list(robjects.r('mod$slip$est'))\n",
    "    q = QMatrix(nb_components, py_qmatrix, slip, guess)\n",
    "    q.display_qmatrix()\n",
    "    q.save('qmatrix-%s' % dataset_name)"
   ]
  },
  {
   "cell_type": "code",
   "execution_count": 59,
   "metadata": {
    "collapsed": false
   },
   "outputs": [
    {
     "name": "stdout",
     "output_type": "stream",
     "text": [
      "data.ecpe$data[,2:29] has size 2922 x 28\n",
      "data.ecpe$q.matrix has size 28 x 3\n",
      "---------------------------------------------------------------------------------\n",
      "DINA MODEL \n",
      "** 2016-06-10 07:21:02 \n",
      "---------------------------------------------------------------------------------\n",
      "Iter.  1  :  07:21:02 ,   loglike =  -48100.12  / max. param. ch. :  0.536317  / relative deviance change :  1\n",
      "Iter.  2  :  07:21:02 ,   loglike =  -43378.32  / max. param. ch. :  0.068317  / relative deviance change :  0.108852\n",
      "Iter.  3  :  07:21:02 ,   loglike =  -43202.24  / max. param. ch. :  0.047803  / relative deviance change :  0.004076\n",
      "Iter.  4  :  07:21:02 ,   loglike =  -43094.75  / max. param. ch. :  0.037809  / relative deviance change :  0.002494\n",
      "Iter.  5  :  07:21:02 ,   loglike =  -43022.48  / max. param. ch. :  0.028244  / relative deviance change :  0.00168\n",
      "Iter.  6  :  07:21:02 ,   loglike =  -42972.78  / max. param. ch. :  0.021244  / relative deviance change :  0.001156\n",
      "Iter.  7  :  07:21:02 ,   loglike =  -42938.14  / max. param. ch. :  0.018516  / relative deviance change :  0.000807\n",
      "Iter.  8  :  07:21:02 ,   loglike =  -42913.71  / max. param. ch. :  0.016872  / relative deviance change :  0.000569\n",
      "Iter.  9  :  07:21:02 ,   loglike =  -42896.29  / max. param. ch. :  0.015291  / relative deviance change :  0.000406\n",
      "Iter.  10  :  07:21:02 ,   loglike =  -42883.76  / max. param. ch. :  0.013794  / relative deviance change :  0.000292\n",
      "Iter.  11  :  07:21:02 ,   loglike =  -42874.66  / max. param. ch. :  0.012396  / relative deviance change :  0.000212\n",
      "Iter.  12  :  07:21:02 ,   loglike =  -42867.99  / max. param. ch. :  0.011106  / relative deviance change :  0.000156\n",
      "Iter.  13  :  07:21:02 ,   loglike =  -42863.04  / max. param. ch. :  0.00993  / relative deviance change :  0.000115\n",
      "Iter.  14  :  07:21:02 ,   loglike =  -42859.33  / max. param. ch. :  0.008866  / relative deviance change :  8.7e-05\n",
      "Iter.  15  :  07:21:02 ,   loglike =  -42856.51  / max. param. ch. :  0.007911  / relative deviance change :  6.6e-05\n",
      "Iter.  16  :  07:21:02 ,   loglike =  -42854.34  / max. param. ch. :  0.00706  / relative deviance change :  5.1e-05\n",
      "Iter.  17  :  07:21:02 ,   loglike =  -42852.63  / max. param. ch. :  0.006304  / relative deviance change :  4e-05\n",
      "Iter.  18  :  07:21:02 ,   loglike =  -42851.28  / max. param. ch. :  0.005636  / relative deviance change :  3.2e-05\n",
      "Iter.  19  :  07:21:02 ,   loglike =  -42850.18  / max. param. ch. :  0.005046  / relative deviance change :  2.6e-05\n",
      "Iter.  20  :  07:21:02 ,   loglike =  -42849.28  / max. param. ch. :  0.004527  / relative deviance change :  2.1e-05\n",
      "Iter.  21  :  07:21:02 ,   loglike =  -42848.53  / max. param. ch. :  0.00407  / relative deviance change :  1.8e-05\n",
      "Iter.  22  :  07:21:02 ,   loglike =  -42847.89  / max. param. ch. :  0.003668  / relative deviance change :  1.5e-05\n",
      "Iter.  23  :  07:21:02 ,   loglike =  -42847.34  / max. param. ch. :  0.003315  / relative deviance change :  1.3e-05\n",
      "Iter.  24  :  07:21:02 ,   loglike =  -42846.87  / max. param. ch. :  0.003004  / relative deviance change :  1.1e-05\n",
      "Iter.  25  :  07:21:02 ,   loglike =  -42846.45  / max. param. ch. :  0.00273  / relative deviance change :  1e-05\n",
      "Iter.  26  :  07:21:02 ,   loglike =  -42846.08  / max. param. ch. :  0.002489  / relative deviance change :  9e-06\n",
      "Iter.  27  :  07:21:02 ,   loglike =  -42845.75  / max. param. ch. :  0.002276  / relative deviance change :  8e-06\n",
      "Iter.  28  :  07:21:02 ,   loglike =  -42845.45  / max. param. ch. :  0.002088  / relative deviance change :  7e-06\n",
      "Iter.  29  :  07:21:02 ,   loglike =  -42845.18  / max. param. ch. :  0.001921  / relative deviance change :  6e-06\n",
      "Iter.  30  :  07:21:02 ,   loglike =  -42844.94  / max. param. ch. :  0.001772  / relative deviance change :  6e-06\n",
      "Iter.  31  :  07:21:03 ,   loglike =  -42844.72  / max. param. ch. :  0.00164  / relative deviance change :  5e-06\n",
      "Iter.  32  :  07:21:03 ,   loglike =  -42844.51  / max. param. ch. :  0.001522  / relative deviance change :  5e-06\n",
      "Iter.  33  :  07:21:03 ,   loglike =  -42844.32  / max. param. ch. :  0.001417  / relative deviance change :  4e-06\n",
      "Iter.  34  :  07:21:03 ,   loglike =  -42844.15  / max. param. ch. :  0.001322  / relative deviance change :  4e-06\n",
      "Iter.  35  :  07:21:03 ,   loglike =  -42843.99  / max. param. ch. :  0.001237  / relative deviance change :  4e-06\n",
      "Iter.  36  :  07:21:03 ,   loglike =  -42843.84  / max. param. ch. :  0.00116  / relative deviance change :  3e-06\n",
      "Iter.  37  :  07:21:03 ,   loglike =  -42843.71  / max. param. ch. :  0.00109  / relative deviance change :  3e-06\n",
      "Iter.  38  :  07:21:03 ,   loglike =  -42843.58  / max. param. ch. :  0.001027  / relative deviance change :  3e-06\n",
      "Iter.  39  :  07:21:03 ,   loglike =  -42843.46  / max. param. ch. :  0.00097  / relative deviance change :  3e-06\n",
      "---------------------------------------------------------------------------------\n",
      "Time difference of 0.736712 secs\n",
      "prefix is now springer0\n",
      "prefix is now springer1\n",
      "prefix is now springer2\n",
      "prefix is now springer3\n",
      "prefix is now springer4\n",
      "prefix is now springer0\n",
      "11. 0.705334120001 0.0850351666407\n",
      ".1. 0.723805644204 0.100923111172\n",
      "1.1 0.438103059366 0.265732334726\n",
      "..1 0.480419673917 0.162013557054\n",
      "..1 0.763676413433 0.0404658679995\n",
      "..1 0.717340464959 0.0664881656155\n",
      "1.1 0.543817948766 0.0846238296353\n",
      ".1. 0.80179578208 0.0397744255089\n",
      "..1 0.534367589483 0.199131800598\n",
      "1.. 0.482729544881 0.162762717756\n",
      "1.1 0.556221269939 0.0989361874756\n",
      "1.1 0.194613934037 0.305154926775\n",
      "1.. 0.633054245414 0.121696671512\n",
      "1.. 0.516692237718 0.2118158339\n",
      "..1 0.748909455676 0.0399411889128\n",
      "1.1 0.549226025669 0.125701351954\n",
      ".11 0.81555466968 0.0579579902152\n",
      "..1 0.729316405543 0.0860166117563\n",
      "..1 0.473208001557 0.150172507426\n",
      "1.1 0.238808495321 0.295490790253\n",
      "1.1 0.62146311256 0.0965599609685\n",
      "..1 0.321756737673 0.187793336931\n",
      ".1. 0.63706848295 0.0752722951921\n",
      ".1. 0.313485237807 0.321931906146\n",
      "1.. 0.511720085229 0.271656878674\n",
      "..1 0.554966587121 0.210687213576\n",
      "1.. 0.265058322638 0.368672362704\n",
      "..1 0.659114937621 0.0860704554162\n"
     ]
    }
   ],
   "source": [
    "create_data('ecpe', 'data.ecpe$data[,2:29]', 'data.ecpe$q.matrix')"
   ]
  }
 ],
 "metadata": {
  "kernelspec": {
   "display_name": "Python 2",
   "language": "python",
   "name": "python2"
  },
  "language_info": {
   "codemirror_mode": {
    "name": "ipython",
    "version": 2
   },
   "file_extension": ".py",
   "mimetype": "text/x-python",
   "name": "python",
   "nbconvert_exporter": "python",
   "pygments_lexer": "ipython2",
   "version": "2.7.10"
  }
 },
 "nbformat": 4,
 "nbformat_minor": 0
}
