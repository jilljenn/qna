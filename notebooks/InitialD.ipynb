{
 "cells": [
  {
   "cell_type": "code",
   "execution_count": 1,
   "metadata": {
    "collapsed": false
   },
   "outputs": [
    {
     "data": {
      "text/plain": [
       "<StrVector - Python:0x11041dbd8 / R:0x7ff1845bd680>\n",
       "[str, str, str]"
      ]
     },
     "execution_count": 1,
     "metadata": {},
     "output_type": "execute_result"
    }
   ],
   "source": [
    "import rpy2.robjects as robjects\n",
    "r = robjects.r\n",
    "\n",
    "r.load('../data.txt')"
   ]
  },
  {
   "cell_type": "code",
   "execution_count": 2,
   "metadata": {
    "collapsed": false,
    "scrolled": true
   },
   "outputs": [],
   "source": [
    "# print(r.U.dot(r.t(r.V)))"
   ]
  },
  {
   "cell_type": "code",
   "execution_count": 2,
   "metadata": {
    "collapsed": false
   },
   "outputs": [],
   "source": [
    "# print(r.V)"
   ]
  },
  {
   "cell_type": "code",
   "execution_count": 3,
   "metadata": {
    "collapsed": true
   },
   "outputs": [],
   "source": [
    "# from rpy2.robjects import pandas2ri\n",
    "# pandas2ri.activate()"
   ]
  },
  {
   "cell_type": "code",
   "execution_count": 4,
   "metadata": {
    "collapsed": true
   },
   "outputs": [],
   "source": [
    "# pU = pandas2ri.ri2py(r.U)\n",
    "# pV = pandas2ri.ri2py(r.V)"
   ]
  },
  {
   "cell_type": "code",
   "execution_count": 5,
   "metadata": {
    "collapsed": false
   },
   "outputs": [],
   "source": [
    "# pU.dot(pV.T)"
   ]
  },
  {
   "cell_type": "code",
   "execution_count": 6,
   "metadata": {
    "collapsed": true
   },
   "outputs": [],
   "source": [
    "import numpy as np"
   ]
  },
  {
   "cell_type": "code",
   "execution_count": 7,
   "metadata": {
    "collapsed": false
   },
   "outputs": [],
   "source": [
    "# DPP\n",
    "def sample_k(items, L, k, max_nb_iterations=1000, rng=np.random):\n",
    "    \"\"\"\n",
    "    Sample a list of k items from a DPP defined\n",
    "    by the similarity matrix L. The algorithm\n",
    "    is iterative and runs for max_nb_iterations.\n",
    "    The algorithm used is from\n",
    "    (Fast Determinantal Point Process Sampling withw\n",
    "    Application to Clustering, Byungkon Kang, NIPS 2013)\n",
    "    \"\"\"\n",
    "    initial = rng.choice(range(len(items)), size=k, replace=False)\n",
    "    X = [False] * len(items)\n",
    "    for i in initial:\n",
    "        X[i] = True\n",
    "    X = np.array(X)\n",
    "    for i in range(max_nb_iterations):\n",
    "        u = rng.choice(np.arange(len(items))[X])\n",
    "        v = rng.choice(np.arange(len(items))[~X])\n",
    "        Y = X.copy()\n",
    "        Y[u] = False\n",
    "        L_Y = L[Y, :]\n",
    "        L_Y = L_Y[:, Y]\n",
    "        L_Y_inv = np.linalg.inv(L_Y)\n",
    "\n",
    "        c_v = L[v:v+1, :]\n",
    "        c_v = c_v[:, v:v+1]\n",
    "        b_v = L[Y, :]\n",
    "        b_v = b_v[:, v:v+1]\n",
    "        c_u = L[u:u+1, :]\n",
    "        c_u = c_u[:, u:u+1]\n",
    "        b_u = L[Y, :]\n",
    "        b_u = b_u[:, u:u+1]\n",
    "\n",
    "        p = min(1, c_v - np.dot(np.dot(b_v.T, L_Y_inv), b_v) /\n",
    "                (c_u - np.dot(np.dot(b_u.T, L_Y_inv.T), b_u)))\n",
    "        if rng.uniform() <= p:\n",
    "            X = Y[:]\n",
    "            X[v] = True\n",
    "    return np.array(items)[X]"
   ]
  },
  {
   "cell_type": "code",
   "execution_count": 8,
   "metadata": {
    "collapsed": false
   },
   "outputs": [],
   "source": [
    "similarity = np.array(r.V.dot(r.V.transpose()))\n",
    "chosen = sample_k(range(r.V.dim[0]), similarity, 5)"
   ]
  },
  {
   "cell_type": "code",
   "execution_count": 9,
   "metadata": {
    "collapsed": false
   },
   "outputs": [
    {
     "name": "stdout",
     "output_type": "stream",
     "text": [
      "prefix is now new-fraction0\n",
      "prefix is now new-fraction1\n",
      "prefix is now new-fraction2\n",
      "prefix is now new-fraction3\n",
      "prefix is now new-fraction4\n",
      "prefix is now new-fraction0\n"
     ]
    }
   ],
   "source": [
    "import os, sys\n",
    "os.chdir('..')\n",
    "from my_io import Dataset\n",
    "dataset = Dataset('fraction')"
   ]
  },
  {
   "cell_type": "code",
   "execution_count": 10,
   "metadata": {
    "collapsed": false
   },
   "outputs": [
    {
     "name": "stdout",
     "output_type": "stream",
     "text": [
      "(13, 'ont tout faux', 30, 'ont tout juste, sinon', 493)\n",
      "(65, 148, 280)\n"
     ]
    }
   ],
   "source": [
    "nb_zero = 0\n",
    "nb_full = 0\n",
    "total = 0\n",
    "dame_zero = 0\n",
    "dame_full = 0\n",
    "ok = 0\n",
    "# chosen = random.sample(range(20), 5)\n",
    "# chosen = sample_k(range(r.V.dim[0]), similarity, 5)\n",
    "for line in np.array(dataset.data):\n",
    "    if sum(line) == 0:\n",
    "        nb_zero += 1\n",
    "    elif sum(line) == 20:\n",
    "        nb_full += 1\n",
    "    else:\n",
    "        # chosen = random.sample(range(20), 5)\n",
    "        # chosen = sample_k(range(r.V.dim[0]), similarity, 5)\n",
    "        total += 1\n",
    "        if sum(line[chosen]) == 0:\n",
    "            dame_zero += 1\n",
    "        elif sum(line[chosen]) == 5:\n",
    "            dame_full += 1\n",
    "        else:\n",
    "            ok += 1\n",
    "print(nb_zero, 'ont tout faux', nb_full, 'ont tout juste, sinon', total)\n",
    "print(dame_zero, dame_full, ok) # 156, 79, 258 pour chosen 1 2 10 12 16\n",
    "# (63, 86, 344) pour full random\n",
    "# (105, 51, 337) pour once random\n",
    "# (59, 123, 311) pour dpp for everyone"
   ]
  },
  {
   "cell_type": "code",
   "execution_count": 11,
   "metadata": {
    "collapsed": true
   },
   "outputs": [],
   "source": [
    "from calc import avgstd"
   ]
  },
  {
   "cell_type": "code",
   "execution_count": 12,
   "metadata": {
    "collapsed": false
   },
   "outputs": [],
   "source": [
    "import random"
   ]
  },
  {
   "cell_type": "code",
   "execution_count": 13,
   "metadata": {
    "collapsed": false
   },
   "outputs": [
    {
     "name": "stdout",
     "output_type": "stream",
     "text": [
      "[ 3  5  7 10 19]\n",
      "[ 0  3  5 13 15]\n",
      "[ 4  5  7 10 11]\n"
     ]
    },
    {
     "name": "stderr",
     "output_type": "stream",
     "text": [
      "/Users/jin/code/lib/python2.7/site-packages/ipykernel/__main__.py:35: RuntimeWarning: divide by zero encountered in divide\n"
     ]
    },
    {
     "name": "stdout",
     "output_type": "stream",
     "text": [
      "[ 1  4  7 11 15]\n",
      "[1 2 5 6 8]\n",
      "[ 2  5  7  9 11]\n",
      "[ 7  8  9 10 15]\n",
      "[ 1  2  5  8 11]\n",
      "[ 3  5  8 15 19]\n",
      "[ 3 10 13 15 19]\n"
     ]
    }
   ],
   "source": [
    "for _ in range(10):\n",
    "    print(sample_k(range(r.V.dim[0]), similarity, 5))"
   ]
  },
  {
   "cell_type": "code",
   "execution_count": 59,
   "metadata": {
    "collapsed": false
   },
   "outputs": [
    {
     "data": {
      "text/plain": [
       "array([False, False, False, False, False, False,  True,  True, False,\n",
       "       False, False,  True, False,  True,  True, False, False,  True,\n",
       "       False, False], dtype=bool)"
      ]
     },
     "execution_count": 59,
     "metadata": {},
     "output_type": "execute_result"
    }
   ],
   "source": [
    "user = np.array(random.choice(dataset.data))\n",
    "user"
   ]
  },
  {
   "cell_type": "code",
   "execution_count": 63,
   "metadata": {
    "collapsed": false
   },
   "outputs": [
    {
     "data": {
      "text/plain": [
       "array([ 3,  5, 13, 16, 19])"
      ]
     },
     "execution_count": 63,
     "metadata": {},
     "output_type": "execute_result"
    }
   ],
   "source": [
    "chosen = sample_k(range(r.V.dim[0]), similarity, 5)\n",
    "chosen"
   ]
  },
  {
   "cell_type": "code",
   "execution_count": 16,
   "metadata": {
    "collapsed": false
   },
   "outputs": [
    {
     "data": {
      "text/plain": [
       "array([ True, False, False, False, False], dtype=bool)"
      ]
     },
     "execution_count": 16,
     "metadata": {},
     "output_type": "execute_result"
    }
   ],
   "source": [
    "user[chosen]"
   ]
  },
  {
   "cell_type": "code",
   "execution_count": 17,
   "metadata": {
    "collapsed": false
   },
   "outputs": [],
   "source": [
    "raw_data = map(int, reduce(lambda x, y: x + y, dataset.data))\n",
    "raw_data\n",
    "nb_students = len(dataset.data)\n",
    "data = r.matrix(robjects.IntVector(raw_data), nrow=nb_students, byrow=True)\n",
    "robjects.globalenv['data'] = data"
   ]
  },
  {
   "cell_type": "code",
   "execution_count": 66,
   "metadata": {
    "collapsed": false
   },
   "outputs": [
    {
     "data": {
      "text/plain": [
       "<Matrix - Python:0x114133a70 / R:0x7ff189398f50>\n",
       "[0.824530, -0.442841, -0.406743, ..., -0.312825, 0.006750, 1.000000]"
      ]
     },
     "execution_count": 66,
     "metadata": {},
     "output_type": "execute_result"
    }
   ],
   "source": [
    "from rpy2.robjects.packages import importr\n",
    "mirtCAT = importr('mirtCAT')\n",
    "\n",
    "def bootstrap(chosen, answers):\n",
    "    items_asked = ','.join(map(lambda x: str(x + 1), chosen))\n",
    "    answers_got = ','.join(map(lambda x: str(int(x)), answers))\n",
    "    r(\"CATdesign <- mirtCAT(NULL, fit, criteria='Drule', start_item='Drule', local_pattern=data, design_elements=TRUE)\")\n",
    "    r(\"CATdesign <- updateDesign(CATdesign, items=c(%s), response=c(%s))\" % (items_asked, answers_got))\n",
    "    r(\"CATdesign$person$Update.thetas(CATdesign$design, CATdesign$test)\")\n",
    "    r(\"theta <- cbind(CATdesign$person$thetas, 1)\")\n",
    "    return r.theta\n",
    "\n",
    "chosen = range(20)\n",
    "bootstrap(chosen, user[chosen])"
   ]
  },
  {
   "cell_type": "code",
   "execution_count": 67,
   "metadata": {
    "collapsed": false
   },
   "outputs": [
    {
     "name": "stdout",
     "output_type": "stream",
     "text": [
      "            F1         F2         F3         F4         F5        F6         F7\n",
      "[1,] 0.8245297 -0.4428409 -0.4067433 -0.9251847 -0.3203103 0.3622759 -0.3128252\n",
      "              F8  \n",
      "[1,] 0.006749974 1\n",
      "\n"
     ]
    }
   ],
   "source": [
    "print(r.theta)"
   ]
  },
  {
   "cell_type": "code",
   "execution_count": 68,
   "metadata": {
    "collapsed": false
   },
   "outputs": [
    {
     "name": "stdout",
     "output_type": "stream",
     "text": [
      "[ 0.30730042  0.28153148  0.23584139  0.19507744  0.21245401  0.69938945\n",
      "  0.35321188  0.63827486  0.54701808  0.15537779  0.21497252  0.62431666\n",
      "  0.04986442  0.50777575  0.51795291  0.48275067  0.18502337  0.26698703\n",
      "  0.16002217  0.12283328]\n",
      "[0, 1, 2, 3, 4, 5, 6, 7, 8, 9, 10, 11, 12, 13, 14, 15, 16, 17, 18, 19]\n",
      "[False False False False False False  True  True False False False  True\n",
      " False  True  True False False  True False False]\n",
      "('OK', 0.30730042202082869, False)\n",
      "('OK', 0.28153148402642558, False)\n",
      "('OK', 0.23584138561231235, False)\n",
      "('OK', 0.19507744370608079, False)\n",
      "('OK', 0.21245401302329425, False)\n",
      "('NOK', 0.69938945136706421, False)\n",
      "('NOK', 0.35321187653670727, True)\n",
      "('OK', 0.63827486120235677, True)\n",
      "('NOK', 0.5470180770047478, False)\n",
      "('OK', 0.15537778879559777, False)\n",
      "('OK', 0.21497252019487537, False)\n",
      "('OK', 0.62431666351109727, True)\n",
      "('OK', 0.049864423474863646, False)\n",
      "('OK', 0.50777574665157355, True)\n",
      "('OK', 0.51795291361484885, True)\n",
      "('OK', 0.48275067317660797, False)\n",
      "('OK', 0.18502337063168153, False)\n",
      "('NOK', 0.26698703307047572, True)\n",
      "('OK', 0.16002217010728767, False)\n",
      "('OK', 0.12283327881094473, False)\n"
     ]
    }
   ],
   "source": [
    "Z = r.theta.dot(r.V.transpose())\n",
    "from scipy.special import expit\n",
    "pred = expit(Z).ravel()\n",
    "print(pred[chosen])\n",
    "print(chosen)\n",
    "print(user[chosen])\n",
    "for p, t in zip(pred, user):\n",
    "    print('OK' if round(p) == t else 'NOK', p, t)"
   ]
  },
  {
   "cell_type": "code",
   "execution_count": 40,
   "metadata": {
    "collapsed": false
   },
   "outputs": [
    {
     "name": "stdout",
     "output_type": "stream",
     "text": [
      "(array([[ 0.        ,  0.11454297,  0.13095647,  0.        ,  0.14525113,\n",
      "         0.        ,  0.05413768,  0.        ]]), array([-2.4988934]))\n"
     ]
    },
    {
     "data": {
      "text/plain": [
       "array([[ 0.88756216,  0.11243784],\n",
       "       [ 0.91744323,  0.08255677],\n",
       "       [ 0.91609395,  0.08390605],\n",
       "       [ 0.89780998,  0.10219002],\n",
       "       [ 0.88718572,  0.11281428]])"
      ]
     },
     "execution_count": 40,
     "metadata": {},
     "output_type": "execute_result"
    }
   ],
   "source": [
    "from sklearn.linear_model import LogisticRegression\n",
    "\n",
    "clf = LogisticRegression(fit_intercept=True, solver='lbfgs')\n",
    "X = np.array(r.V)[chosen, 0:8]\n",
    "clf.fit(X, user[chosen], sample_weight=np.array(r.V)[chosen, 8])\n",
    "pred = clf.coef_[0]\n",
    "print(clf.coef_, clf.intercept_)\n",
    "clf.predict_proba(np.array(r.V)[chosen, 0:8])"
   ]
  },
  {
   "cell_type": "code",
   "execution_count": 32,
   "metadata": {
    "collapsed": false
   },
   "outputs": [
    {
     "data": {
      "text/plain": [
       "array([ True, False, False, False, False], dtype=bool)"
      ]
     },
     "execution_count": 32,
     "metadata": {},
     "output_type": "execute_result"
    }
   ],
   "source": [
    "user[chosen]"
   ]
  },
  {
   "cell_type": "code",
   "execution_count": 49,
   "metadata": {
    "collapsed": false
   },
   "outputs": [
    {
     "data": {
      "text/plain": [
       "[(0.014925373134328401, 2),\n",
       " (0.026119402985074647, 10),\n",
       " (0.027985074626865725, 3),\n",
       " (0.03171641791044777, 0),\n",
       " (0.03171641791044777, 17)]"
      ]
     },
     "execution_count": 49,
     "metadata": {},
     "output_type": "execute_result"
    }
   ],
   "source": [
    "nb_students = len(dataset.data)\n",
    "nb_questions = len(dataset.data[0])\n",
    "mean_success = [float(sum(dataset.data[i][j] for i in range(nb_students))) / nb_students for j in range(nb_questions)]\n",
    "sorted([(abs(mean_success[i] - 0.5), i) for i in range(nb_questions)])[:5]"
   ]
  },
  {
   "cell_type": "code",
   "execution_count": 50,
   "metadata": {
    "collapsed": true
   },
   "outputs": [],
   "source": [
    "chosen = [0, 2, 3, 10, 17]"
   ]
  },
  {
   "cell_type": "code",
   "execution_count": null,
   "metadata": {
    "collapsed": true
   },
   "outputs": [],
   "source": []
  }
 ],
 "metadata": {
  "kernelspec": {
   "display_name": "Python 2",
   "language": "python",
   "name": "python2"
  },
  "language_info": {
   "codemirror_mode": {
    "name": "ipython",
    "version": 2
   },
   "file_extension": ".py",
   "mimetype": "text/x-python",
   "name": "python",
   "nbconvert_exporter": "python",
   "pygments_lexer": "ipython2",
   "version": "2.7.10"
  }
 },
 "nbformat": 4,
 "nbformat_minor": 0
}
