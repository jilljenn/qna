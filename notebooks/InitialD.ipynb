{
 "cells": [
  {
   "cell_type": "code",
   "execution_count": 1,
   "metadata": {
    "collapsed": false
   },
   "outputs": [
    {
     "data": {
      "text/plain": [
       "<StrVector - Python:0x10b233bd8 / R:0x7fe92d593880>\n",
       "[str, str, str]"
      ]
     },
     "execution_count": 1,
     "metadata": {},
     "output_type": "execute_result"
    }
   ],
   "source": [
    "import rpy2.robjects as robjects\n",
    "r = robjects.r\n",
    "\n",
    "r.load('../data.txt')"
   ]
  },
  {
   "cell_type": "code",
   "execution_count": 2,
   "metadata": {
    "collapsed": false,
    "scrolled": true
   },
   "outputs": [],
   "source": [
    "# print(r.U.dot(r.t(r.V)))"
   ]
  },
  {
   "cell_type": "code",
   "execution_count": 2,
   "metadata": {
    "collapsed": false
   },
   "outputs": [],
   "source": [
    "# print(r.V)"
   ]
  },
  {
   "cell_type": "code",
   "execution_count": 3,
   "metadata": {
    "collapsed": true
   },
   "outputs": [],
   "source": [
    "# from rpy2.robjects import pandas2ri\n",
    "# pandas2ri.activate()"
   ]
  },
  {
   "cell_type": "code",
   "execution_count": 4,
   "metadata": {
    "collapsed": true
   },
   "outputs": [],
   "source": [
    "# pU = pandas2ri.ri2py(r.U)\n",
    "# pV = pandas2ri.ri2py(r.V)"
   ]
  },
  {
   "cell_type": "code",
   "execution_count": 5,
   "metadata": {
    "collapsed": false
   },
   "outputs": [],
   "source": [
    "# pU.dot(pV.T)"
   ]
  },
  {
   "cell_type": "code",
   "execution_count": 3,
   "metadata": {
    "collapsed": true
   },
   "outputs": [],
   "source": [
    "import numpy as np"
   ]
  },
  {
   "cell_type": "code",
   "execution_count": 42,
   "metadata": {
    "collapsed": false
   },
   "outputs": [],
   "source": [
    "# DPP\n",
    "def sample_k(items, L, k, max_nb_iterations=1000, rng=np.random):\n",
    "    \"\"\"\n",
    "    Sample a list of k items from a DPP defined\n",
    "    by the similarity matrix L. The algorithm\n",
    "    is iterative and runs for max_nb_iterations.\n",
    "    The algorithm used is from\n",
    "    (Fast Determinantal Point Process Sampling withw\n",
    "    Application to Clustering, Byungkon Kang, NIPS 2013)\n",
    "    \"\"\"\n",
    "    initial = rng.choice(range(len(items)), size=k, replace=False)\n",
    "    X = [False] * len(items)\n",
    "    for i in initial:\n",
    "        X[i] = True\n",
    "    X = np.array(X)\n",
    "    for i in range(max_nb_iterations):\n",
    "        u = rng.choice(np.arange(len(items))[X])\n",
    "        v = rng.choice(np.arange(len(items))[~X])\n",
    "        Y = X.copy()\n",
    "        Y[u] = False\n",
    "        L_Y = L[Y, :]\n",
    "        L_Y = L_Y[:, Y]\n",
    "        L_Y_inv = np.linalg.inv(L_Y)\n",
    "\n",
    "        c_v = L[v:v+1, :]\n",
    "        c_v = c_v[:, v:v+1]\n",
    "        b_v = L[Y, :]\n",
    "        b_v = b_v[:, v:v+1]\n",
    "        c_u = L[u:u+1, :]\n",
    "        c_u = c_u[:, u:u+1]\n",
    "        b_u = L[Y, :]\n",
    "        b_u = b_u[:, u:u+1]\n",
    "\n",
    "        p = min(1, c_v - np.dot(np.dot(b_v.T, L_Y_inv), b_v) /\n",
    "                (c_u - np.dot(np.dot(b_u.T, L_Y_inv.T), b_u)))\n",
    "        if rng.uniform() <= p:\n",
    "            X = Y[:]\n",
    "            X[v] = True\n",
    "    return np.array(items)[X]"
   ]
  },
  {
   "cell_type": "code",
   "execution_count": 46,
   "metadata": {
    "collapsed": false
   },
   "outputs": [],
   "source": [
    "import matplotlib.pyplot as plt\n",
    "import numpy as np\n",
    "import dpp\n",
    "import math\n",
    "\n",
    "t = 0.005\n",
    "x = []\n",
    "y = []\n",
    "for i in range(0, int(1/t)):\n",
    "  a = 2*math.pi*float(i)*t\n",
    "  x.append(math.cos(a))\n",
    "  y.append(math.sin(a))\n",
    "\n",
    "x = np.array(x)\n",
    "y = np.array(y)\n",
    "\n",
    "k = 50\n",
    "idx = np.arange(x.size)\n",
    "np.random.shuffle(idx)\n",
    "x_uniform = x[idx[:k]]\n",
    "y_uniform = y[idx[:k]]\n",
    "\n",
    "sigma = 0.1\n",
    "L = np.exp(- ( np.power(x - x[:, None], 2) + \n",
    "               np.power(y - y[:, None], 2) )/(sigma**2))"
   ]
  },
  {
   "cell_type": "code",
   "execution_count": 55,
   "metadata": {
    "collapsed": false
   },
   "outputs": [],
   "source": [
    "# L.T == L, L.shape\n",
    "D, V = np.linalg.eig(similarity)"
   ]
  },
  {
   "cell_type": "code",
   "execution_count": 56,
   "metadata": {
    "collapsed": true
   },
   "outputs": [],
   "source": [
    "D = np.real(D)\n",
    "V = np.real(V)"
   ]
  },
  {
   "cell_type": "code",
   "execution_count": 83,
   "metadata": {
    "collapsed": false
   },
   "outputs": [
    {
     "name": "stdout",
     "output_type": "stream",
     "text": [
      "\n"
     ]
    }
   ],
   "source": [
    "similarity = np.array(r.V.dot(r.V.transpose()))\n",
    "# chosen = sample_k(range(r.V.dim[0]), similarity, 5)\n",
    "chosen = dpp.sample_k(5, D, V)\n",
    "chosen\n",
    "\n",
    "def dpp_k(k):\n",
    "    return map(int, dpp.sample_k(k, D, V))"
   ]
  },
  {
   "cell_type": "code",
   "execution_count": 70,
   "metadata": {
    "collapsed": false
   },
   "outputs": [
    {
     "name": "stdout",
     "output_type": "stream",
     "text": [
      "prefix is now coldstart0\n",
      "prefix is now coldstart1\n",
      "prefix is now coldstart2\n",
      "prefix is now coldstart0\n"
     ]
    },
    {
     "ename": "IOError",
     "evalue": "[Errno 2] No such file or directory: 'data/fraction.json'",
     "output_type": "error",
     "traceback": [
      "\u001b[0;31m---------------------------------------------------------------------------\u001b[0m",
      "\u001b[0;31mIOError\u001b[0m                                   Traceback (most recent call last)",
      "\u001b[0;32m<ipython-input-70-d4f22fca1354>\u001b[0m in \u001b[0;36m<module>\u001b[0;34m()\u001b[0m\n\u001b[1;32m      2\u001b[0m \u001b[0mos\u001b[0m\u001b[0;34m.\u001b[0m\u001b[0mchdir\u001b[0m\u001b[0;34m(\u001b[0m\u001b[0;34m'..'\u001b[0m\u001b[0;34m)\u001b[0m\u001b[0;34m\u001b[0m\u001b[0m\n\u001b[1;32m      3\u001b[0m \u001b[0;32mfrom\u001b[0m \u001b[0mmy_io\u001b[0m \u001b[0;32mimport\u001b[0m \u001b[0mDataset\u001b[0m\u001b[0;34m\u001b[0m\u001b[0m\n\u001b[0;32m----> 4\u001b[0;31m \u001b[0mdataset\u001b[0m \u001b[0;34m=\u001b[0m \u001b[0mDataset\u001b[0m\u001b[0;34m(\u001b[0m\u001b[0;34m'fraction'\u001b[0m\u001b[0;34m)\u001b[0m\u001b[0;34m\u001b[0m\u001b[0m\n\u001b[0m",
      "\u001b[0;32mmy_io.pyc\u001b[0m in \u001b[0;36m__init__\u001b[0;34m(self, dataset_name, files)\u001b[0m\n",
      "\u001b[0;32mmy_io.pyc\u001b[0m in \u001b[0;36mload\u001b[0;34m(self, filename, prefix)\u001b[0m\n",
      "\u001b[0;31mIOError\u001b[0m: [Errno 2] No such file or directory: 'data/fraction.json'"
     ]
    }
   ],
   "source": [
    "import os, sys\n",
    "os.chdir('..')\n",
    "from my_io import Dataset\n",
    "dataset = Dataset('fraction')"
   ]
  },
  {
   "cell_type": "code",
   "execution_count": 92,
   "metadata": {
    "collapsed": false
   },
   "outputs": [
    {
     "data": {
      "text/plain": [
       "(0, 4, 5, 17, 18)"
      ]
     },
     "execution_count": 92,
     "metadata": {},
     "output_type": "execute_result"
    }
   ],
   "source": [
    "contestants[0][1]"
   ]
  },
  {
   "cell_type": "code",
   "execution_count": 117,
   "metadata": {
    "collapsed": false
   },
   "outputs": [
    {
     "name": "stdout",
     "output_type": "stream",
     "text": [
      "(13, 'ont tout faux', 30, 'ont tout juste, sinon', 493)\n",
      "(162, 180, 151)\n"
     ]
    }
   ],
   "source": [
    "nb_zero = 0\n",
    "nb_full = 0\n",
    "total = 0\n",
    "dame_zero = 0\n",
    "dame_full = 0\n",
    "ok = 0\n",
    "k = 2\n",
    "# chosen = random.sample(range(20), 5)\n",
    "# chosen = sample_k(range(r.V.dim[0]), similarity, 5)\n",
    "# chosen = dpp_k(k)\n",
    "# chosen = list(contestants[0][1])\n",
    "for line in np.array(dataset.data):\n",
    "    if sum(line) == 0:\n",
    "        nb_zero += 1\n",
    "    elif sum(line) == 20:\n",
    "        nb_full += 1\n",
    "    else:\n",
    "        chosen = random.sample(range(20), 2)\n",
    "        # chosen = sample_k(range(r.V.dim[0]), similarity, 5)\n",
    "        # chosen = dpp_k(k)\n",
    "        total += 1\n",
    "        if sum(line[chosen]) == 0:\n",
    "            dame_zero += 1\n",
    "        elif sum(line[chosen]) == k:\n",
    "            dame_full += 1\n",
    "        else:\n",
    "            ok += 1\n",
    "print(nb_zero, 'ont tout faux', nb_full, 'ont tout juste, sinon', total)\n",
    "print(dame_zero, dame_full, ok) # 156, 79, 258 pour chosen 1 2 10 12 16\n",
    "# (63, 86, 344) pour full random\n",
    "# (105, 51, 337) pour once random\n",
    "# (59, 123, 311) pour bad-dpp for everyone\n",
    "# (40, 81, 372) (21, 102, 370) pour once dpp\n",
    "# (70, 82, 341) pour full dpp"
   ]
  },
  {
   "cell_type": "code",
   "execution_count": 100,
   "metadata": {
    "collapsed": false
   },
   "outputs": [
    {
     "ename": "ImportError",
     "evalue": "No module named calc",
     "output_type": "error",
     "traceback": [
      "\u001b[0;31m---------------------------------------------------------------------------\u001b[0m",
      "\u001b[0;31mImportError\u001b[0m                               Traceback (most recent call last)",
      "\u001b[0;32m<ipython-input-100-d5fbd998cb99>\u001b[0m in \u001b[0;36m<module>\u001b[0;34m()\u001b[0m\n\u001b[0;32m----> 1\u001b[0;31m \u001b[0;32mfrom\u001b[0m \u001b[0mcalc\u001b[0m \u001b[0;32mimport\u001b[0m \u001b[0mavgstd\u001b[0m\u001b[0;34m\u001b[0m\u001b[0m\n\u001b[0m",
      "\u001b[0;31mImportError\u001b[0m: No module named calc"
     ]
    }
   ],
   "source": [
    "from calc import avgstd"
   ]
  },
  {
   "cell_type": "code",
   "execution_count": 6,
   "metadata": {
    "collapsed": false
   },
   "outputs": [],
   "source": [
    "import random"
   ]
  },
  {
   "cell_type": "markdown",
   "metadata": {},
   "source": [
    "# Tester sample_k"
   ]
  },
  {
   "cell_type": "code",
   "execution_count": 27,
   "metadata": {
    "collapsed": false
   },
   "outputs": [
    {
     "name": "stdout",
     "output_type": "stream",
     "text": [
      "[ 3.692155  3.028651]\n"
     ]
    },
    {
     "data": {
      "text/plain": [
       "array([[ 3.692155,  2.981716],\n",
       "       [ 2.981716,  3.028651]])"
      ]
     },
     "execution_count": 27,
     "metadata": {},
     "output_type": "execute_result"
    }
   ],
   "source": [
    "similarity.shape\n",
    "print(similarity[[0, 1], [0, 1]])  # Attention\n",
    "similarity[np.ix_([0, 1], [0, 1])]  # OK\n",
    "similarity[np.matrix([0, 1]).T, [0, 1]]"
   ]
  },
  {
   "cell_type": "code",
   "execution_count": 106,
   "metadata": {
    "collapsed": false
   },
   "outputs": [],
   "source": [
    "from itertools import combinations\n",
    "k = 2\n",
    "contestants = []\n",
    "det = {}\n",
    "rank = {}\n",
    "for sample in combinations(range(20), k):\n",
    "    contestant = tuple(sorted(sample))\n",
    "    det[contestant] = np.linalg.det(similarity[np.ix_(sample, sample)])\n",
    "    contestants.append((det[contestant], contestant))\n",
    "contestants.sort(reverse=True)\n",
    "for i, (_, contestant) in enumerate(contestants, start=1):\n",
    "    rank[contestant] = i"
   ]
  },
  {
   "cell_type": "code",
   "execution_count": 107,
   "metadata": {
    "collapsed": false
   },
   "outputs": [
    {
     "name": "stdout",
     "output_type": "stream",
     "text": [
      "[6, 15] det: 7.8717913697 rank: 103 out of 190\n",
      "[1, 6] det: 8.15094831279 rank: 97 out of 190\n",
      "[7, 12] det: 22.121822067 rank: 6 out of 190\n",
      "[6, 3] det: 9.24576898357 rank: 75 out of 190\n",
      "[15, 3] det: 7.74404590384 rank: 106 out of 190\n",
      "[11, 2] det: 6.45344734816 rank: 131 out of 190\n",
      "[8, 0] det: 4.66947563282 rank: 156 out of 190\n",
      "[12, 17] det: 9.95660086957 rank: 64 out of 190\n",
      "[0, 16] det: 10.6762857528 rank: 57 out of 190\n",
      "[19, 11] det: 17.1454217178 rank: 14 out of 190\n"
     ]
    }
   ],
   "source": [
    "for _ in range(10):\n",
    "    # chosen = sample_k(range(r.V.dim[0]), similarity, k)\n",
    "    chosen = dpp_k(k)\n",
    "    contestant = tuple(sorted(chosen))\n",
    "    print chosen, 'det:', det[contestant], 'rank: %d out of %d' % (rank[contestant], len(contestants))"
   ]
  },
  {
   "cell_type": "code",
   "execution_count": 59,
   "metadata": {
    "collapsed": false
   },
   "outputs": [
    {
     "data": {
      "text/plain": [
       "array([False, False, False, False, False, False,  True,  True, False,\n",
       "       False, False,  True, False,  True,  True, False, False,  True,\n",
       "       False, False], dtype=bool)"
      ]
     },
     "execution_count": 59,
     "metadata": {},
     "output_type": "execute_result"
    }
   ],
   "source": [
    "user = np.array(random.choice(dataset.data))\n",
    "user"
   ]
  },
  {
   "cell_type": "code",
   "execution_count": 63,
   "metadata": {
    "collapsed": false
   },
   "outputs": [
    {
     "data": {
      "text/plain": [
       "array([ 3,  5, 13, 16, 19])"
      ]
     },
     "execution_count": 63,
     "metadata": {},
     "output_type": "execute_result"
    }
   ],
   "source": [
    "chosen = sample_k(range(r.V.dim[0]), similarity, 5)\n",
    "chosen"
   ]
  },
  {
   "cell_type": "code",
   "execution_count": 16,
   "metadata": {
    "collapsed": false
   },
   "outputs": [
    {
     "data": {
      "text/plain": [
       "array([ True, False, False, False, False], dtype=bool)"
      ]
     },
     "execution_count": 16,
     "metadata": {},
     "output_type": "execute_result"
    }
   ],
   "source": [
    "user[chosen]"
   ]
  },
  {
   "cell_type": "code",
   "execution_count": 17,
   "metadata": {
    "collapsed": false
   },
   "outputs": [],
   "source": [
    "raw_data = map(int, reduce(lambda x, y: x + y, dataset.data))\n",
    "raw_data\n",
    "nb_students = len(dataset.data)\n",
    "data = r.matrix(robjects.IntVector(raw_data), nrow=nb_students, byrow=True)\n",
    "robjects.globalenv['data'] = data"
   ]
  },
  {
   "cell_type": "code",
   "execution_count": 66,
   "metadata": {
    "collapsed": false
   },
   "outputs": [
    {
     "data": {
      "text/plain": [
       "<Matrix - Python:0x114133a70 / R:0x7ff189398f50>\n",
       "[0.824530, -0.442841, -0.406743, ..., -0.312825, 0.006750, 1.000000]"
      ]
     },
     "execution_count": 66,
     "metadata": {},
     "output_type": "execute_result"
    }
   ],
   "source": [
    "from rpy2.robjects.packages import importr\n",
    "mirtCAT = importr('mirtCAT')\n",
    "\n",
    "def bootstrap(chosen, answers):\n",
    "    items_asked = ','.join(map(lambda x: str(x + 1), chosen))\n",
    "    answers_got = ','.join(map(lambda x: str(int(x)), answers))\n",
    "    r(\"CATdesign <- mirtCAT(NULL, fit, criteria='Drule', start_item='Drule', local_pattern=data, design_elements=TRUE)\")\n",
    "    r(\"CATdesign <- updateDesign(CATdesign, items=c(%s), response=c(%s))\" % (items_asked, answers_got))\n",
    "    r(\"CATdesign$person$Update.thetas(CATdesign$design, CATdesign$test)\")\n",
    "    r(\"theta <- cbind(CATdesign$person$thetas, 1)\")\n",
    "    return r.theta\n",
    "\n",
    "chosen = range(20)\n",
    "bootstrap(chosen, user[chosen])"
   ]
  },
  {
   "cell_type": "code",
   "execution_count": 67,
   "metadata": {
    "collapsed": false
   },
   "outputs": [
    {
     "name": "stdout",
     "output_type": "stream",
     "text": [
      "            F1         F2         F3         F4         F5        F6         F7\n",
      "[1,] 0.8245297 -0.4428409 -0.4067433 -0.9251847 -0.3203103 0.3622759 -0.3128252\n",
      "              F8  \n",
      "[1,] 0.006749974 1\n",
      "\n"
     ]
    }
   ],
   "source": [
    "print(r.theta)"
   ]
  },
  {
   "cell_type": "code",
   "execution_count": 68,
   "metadata": {
    "collapsed": false
   },
   "outputs": [
    {
     "name": "stdout",
     "output_type": "stream",
     "text": [
      "[ 0.30730042  0.28153148  0.23584139  0.19507744  0.21245401  0.69938945\n",
      "  0.35321188  0.63827486  0.54701808  0.15537779  0.21497252  0.62431666\n",
      "  0.04986442  0.50777575  0.51795291  0.48275067  0.18502337  0.26698703\n",
      "  0.16002217  0.12283328]\n",
      "[0, 1, 2, 3, 4, 5, 6, 7, 8, 9, 10, 11, 12, 13, 14, 15, 16, 17, 18, 19]\n",
      "[False False False False False False  True  True False False False  True\n",
      " False  True  True False False  True False False]\n",
      "('OK', 0.30730042202082869, False)\n",
      "('OK', 0.28153148402642558, False)\n",
      "('OK', 0.23584138561231235, False)\n",
      "('OK', 0.19507744370608079, False)\n",
      "('OK', 0.21245401302329425, False)\n",
      "('NOK', 0.69938945136706421, False)\n",
      "('NOK', 0.35321187653670727, True)\n",
      "('OK', 0.63827486120235677, True)\n",
      "('NOK', 0.5470180770047478, False)\n",
      "('OK', 0.15537778879559777, False)\n",
      "('OK', 0.21497252019487537, False)\n",
      "('OK', 0.62431666351109727, True)\n",
      "('OK', 0.049864423474863646, False)\n",
      "('OK', 0.50777574665157355, True)\n",
      "('OK', 0.51795291361484885, True)\n",
      "('OK', 0.48275067317660797, False)\n",
      "('OK', 0.18502337063168153, False)\n",
      "('NOK', 0.26698703307047572, True)\n",
      "('OK', 0.16002217010728767, False)\n",
      "('OK', 0.12283327881094473, False)\n"
     ]
    }
   ],
   "source": [
    "Z = r.theta.dot(r.V.transpose())\n",
    "from scipy.special import expit\n",
    "pred = expit(Z).ravel()\n",
    "print(pred[chosen])\n",
    "print(chosen)\n",
    "print(user[chosen])\n",
    "for p, t in zip(pred, user):\n",
    "    print('OK' if round(p) == t else 'NOK', p, t)"
   ]
  },
  {
   "cell_type": "code",
   "execution_count": 40,
   "metadata": {
    "collapsed": false
   },
   "outputs": [
    {
     "name": "stdout",
     "output_type": "stream",
     "text": [
      "(array([[ 0.        ,  0.11454297,  0.13095647,  0.        ,  0.14525113,\n",
      "         0.        ,  0.05413768,  0.        ]]), array([-2.4988934]))\n"
     ]
    },
    {
     "data": {
      "text/plain": [
       "array([[ 0.88756216,  0.11243784],\n",
       "       [ 0.91744323,  0.08255677],\n",
       "       [ 0.91609395,  0.08390605],\n",
       "       [ 0.89780998,  0.10219002],\n",
       "       [ 0.88718572,  0.11281428]])"
      ]
     },
     "execution_count": 40,
     "metadata": {},
     "output_type": "execute_result"
    }
   ],
   "source": [
    "from sklearn.linear_model import LogisticRegression\n",
    "\n",
    "clf = LogisticRegression(fit_intercept=True, solver='lbfgs')\n",
    "X = np.array(r.V)[chosen, 0:8]\n",
    "clf.fit(X, user[chosen], sample_weight=np.array(r.V)[chosen, 8])\n",
    "pred = clf.coef_[0]\n",
    "print(clf.coef_, clf.intercept_)\n",
    "clf.predict_proba(np.array(r.V)[chosen, 0:8])"
   ]
  },
  {
   "cell_type": "code",
   "execution_count": 32,
   "metadata": {
    "collapsed": false
   },
   "outputs": [
    {
     "data": {
      "text/plain": [
       "array([ True, False, False, False, False], dtype=bool)"
      ]
     },
     "execution_count": 32,
     "metadata": {},
     "output_type": "execute_result"
    }
   ],
   "source": [
    "user[chosen]"
   ]
  },
  {
   "cell_type": "code",
   "execution_count": 49,
   "metadata": {
    "collapsed": false
   },
   "outputs": [
    {
     "data": {
      "text/plain": [
       "[(0.014925373134328401, 2),\n",
       " (0.026119402985074647, 10),\n",
       " (0.027985074626865725, 3),\n",
       " (0.03171641791044777, 0),\n",
       " (0.03171641791044777, 17)]"
      ]
     },
     "execution_count": 49,
     "metadata": {},
     "output_type": "execute_result"
    }
   ],
   "source": [
    "nb_students = len(dataset.data)\n",
    "nb_questions = len(dataset.data[0])\n",
    "mean_success = [float(sum(dataset.data[i][j] for i in range(nb_students))) / nb_students for j in range(nb_questions)]\n",
    "sorted([(abs(mean_success[i] - 0.5), i) for i in range(nb_questions)])[:5]"
   ]
  },
  {
   "cell_type": "code",
   "execution_count": 50,
   "metadata": {
    "collapsed": true
   },
   "outputs": [],
   "source": [
    "chosen = [0, 2, 3, 10, 17]"
   ]
  },
  {
   "cell_type": "code",
   "execution_count": null,
   "metadata": {
    "collapsed": true
   },
   "outputs": [],
   "source": []
  }
 ],
 "metadata": {
  "kernelspec": {
   "display_name": "Python 2",
   "language": "python",
   "name": "python2"
  },
  "language_info": {
   "codemirror_mode": {
    "name": "ipython",
    "version": 2
   },
   "file_extension": ".py",
   "mimetype": "text/x-python",
   "name": "python",
   "nbconvert_exporter": "python",
   "pygments_lexer": "ipython2",
   "version": "2.7.10"
  }
 },
 "nbformat": 4,
 "nbformat_minor": 0
}
