{
 "cells": [
  {
   "cell_type": "code",
   "execution_count": 38,
   "metadata": {
    "collapsed": false
   },
   "outputs": [],
   "source": [
    "import json, numpy\n",
    "from sklearn.decomposition import dict_learning\n",
    "from qmatrix import QMatrix\n",
    "from my_io import Dataset\n",
    "\n",
    "# q = QMatrix()\n",
    "# q.load('qmatrix-cdm')\n",
    "# q.display_qmatrix()"
   ]
  },
  {
   "cell_type": "code",
   "execution_count": 39,
   "metadata": {
    "collapsed": false
   },
   "outputs": [
    {
     "name": "stdout",
     "output_type": "stream",
     "text": [
      "prefix is now new-fraction0\n",
      "prefix is now new-fraction1\n",
      "prefix is now new-fraction2\n",
      "prefix is now new-fraction3\n",
      "prefix is now new-fraction4\n",
      "prefix is now new-fraction0\n"
     ]
    }
   ],
   "source": [
    "dataset = Dataset('fraction')"
   ]
  },
  {
   "cell_type": "code",
   "execution_count": 40,
   "metadata": {
    "collapsed": false
   },
   "outputs": [
    {
     "name": "stdout",
     "output_type": "stream",
     "text": [
      "prefix is now new-fraction0\n",
      "prefix is now new-fraction1\n",
      "prefix is now new-fraction2\n",
      "prefix is now new-fraction3\n",
      "prefix is now new-fraction4\n",
      "prefix is now new-fraction0\n"
     ]
    },
    {
     "data": {
      "text/plain": [
       "(2467, 7)"
      ]
     },
     "execution_count": 40,
     "metadata": {},
     "output_type": "execute_result"
    }
   ],
   "source": [
    "dataset = Dataset('banach')\n",
    "dataset.nb_students, dataset.nb_questions"
   ]
  },
  {
   "cell_type": "code",
   "execution_count": 25,
   "metadata": {
    "collapsed": false,
    "scrolled": true
   },
   "outputs": [
    {
     "data": {
      "text/plain": [
       "Counter({'0000000': 50,\n",
       "         '0000010': 8,\n",
       "         '0000100': 2,\n",
       "         '0001000': 9,\n",
       "         '0001010': 2,\n",
       "         '0001100': 3,\n",
       "         '0001101': 1,\n",
       "         '0001110': 1,\n",
       "         '0010000': 11,\n",
       "         '0010001': 1,\n",
       "         '0010100': 3,\n",
       "         '0011000': 15,\n",
       "         '0011010': 6,\n",
       "         '0011100': 4,\n",
       "         '0011111': 1,\n",
       "         '0100000': 2,\n",
       "         '0100100': 1,\n",
       "         '0101000': 4,\n",
       "         '0101100': 1,\n",
       "         '0110000': 2,\n",
       "         '0110101': 1,\n",
       "         '0111000': 9,\n",
       "         '0111001': 2,\n",
       "         '0111010': 2,\n",
       "         '0111011': 1,\n",
       "         '0111100': 1,\n",
       "         '0111101': 6,\n",
       "         '0111111': 2,\n",
       "         '1000000': 40,\n",
       "         '1000010': 2,\n",
       "         '1000100': 13,\n",
       "         '1000110': 2,\n",
       "         '1001000': 33,\n",
       "         '1001001': 1,\n",
       "         '1001010': 8,\n",
       "         '1001100': 35,\n",
       "         '1001101': 1,\n",
       "         '1001110': 9,\n",
       "         '1010000': 20,\n",
       "         '1010001': 1,\n",
       "         '1010010': 3,\n",
       "         '1010100': 18,\n",
       "         '1011000': 207,\n",
       "         '1011001': 10,\n",
       "         '1011010': 137,\n",
       "         '1011011': 13,\n",
       "         '1011100': 98,\n",
       "         '1011101': 11,\n",
       "         '1011110': 60,\n",
       "         '1011111': 13,\n",
       "         '1100000': 10,\n",
       "         '1100001': 1,\n",
       "         '1100100': 5,\n",
       "         '1100101': 2,\n",
       "         '1100110': 3,\n",
       "         '1100111': 1,\n",
       "         '1101000': 23,\n",
       "         '1101001': 1,\n",
       "         '1101010': 5,\n",
       "         '1101011': 1,\n",
       "         '1101100': 16,\n",
       "         '1101101': 7,\n",
       "         '1101110': 11,\n",
       "         '1101111': 5,\n",
       "         '1110000': 13,\n",
       "         '1110001': 3,\n",
       "         '1110010': 2,\n",
       "         '1110100': 10,\n",
       "         '1110101': 20,\n",
       "         '1110110': 4,\n",
       "         '1110111': 4,\n",
       "         '1111000': 136,\n",
       "         '1111001': 37,\n",
       "         '1111010': 158,\n",
       "         '1111011': 74,\n",
       "         '1111100': 132,\n",
       "         '1111101': 273,\n",
       "         '1111110': 91,\n",
       "         '1111111': 533})"
      ]
     },
     "execution_count": 25,
     "metadata": {},
     "output_type": "execute_result"
    }
   ],
   "source": [
    "from collections import Counter\n",
    "Counter(map(lambda line: ''.join(map(str, line)), dataset.data))"
   ]
  },
  {
   "cell_type": "code",
   "execution_count": 53,
   "metadata": {
    "collapsed": true
   },
   "outputs": [],
   "source": [
    "NB_COMPONENTS = 4"
   ]
  },
  {
   "cell_type": "code",
   "execution_count": 54,
   "metadata": {
    "collapsed": false
   },
   "outputs": [],
   "source": [
    "import numpy as np\n",
    "from sklearn.decomposition import SparsePCA\n",
    "\n",
    "M = np.array(dataset.data)\n",
    "pca = SparsePCA(n_components=NB_COMPONENTS)\n",
    "pca.fit(M)\n",
    "VT = pca.components_"
   ]
  },
  {
   "cell_type": "code",
   "execution_count": 55,
   "metadata": {
    "collapsed": false
   },
   "outputs": [
    {
     "data": {
      "text/plain": [
       "(7, 4)"
      ]
     },
     "execution_count": 55,
     "metadata": {},
     "output_type": "execute_result"
    }
   ],
   "source": [
    "VT.T.shape"
   ]
  },
  {
   "cell_type": "code",
   "execution_count": 56,
   "metadata": {
    "collapsed": false
   },
   "outputs": [
    {
     "data": {
      "text/plain": [
       "array([[ 4.35521417,  0.        ,  0.50345881,  3.26024555],\n",
       "       [ 1.04372971,  6.73254991,  0.        ,  0.        ],\n",
       "       [ 4.16989854,  0.924955  ,  0.58875209,  1.81599057],\n",
       "       [ 4.3010426 ,  0.04026238,  0.87123541,  2.58934321],\n",
       "       [ 0.        ,  0.        ,  0.        ,  9.77077091],\n",
       "       [ 0.        ,  0.        ,  8.00630243,  0.        ],\n",
       "       [ 0.        ,  6.40260558,  0.        ,  0.        ]])"
      ]
     },
     "execution_count": 56,
     "metadata": {},
     "output_type": "execute_result"
    }
   ],
   "source": [
    "from sklearn.decomposition import NMF\n",
    "\n",
    "nmf = NMF(n_components=NB_COMPONENTS)#, sparseness='components')\n",
    "nmf.fit(M)\n",
    "H = nmf.components_\n",
    "H.T"
   ]
  },
  {
   "cell_type": "code",
   "execution_count": 57,
   "metadata": {
    "collapsed": false
   },
   "outputs": [
    {
     "name": "stdout",
     "output_type": "stream",
     "text": [
      "SparsePCA\n",
      "1..1\n",
      "11..\n",
      "11..\n",
      "1.1.\n",
      "...1\n",
      "..1.\n",
      ".111\n",
      "('NMF', 23.697519945807855)\n",
      "1.11\n",
      "11..\n",
      "1111\n",
      "1.11\n",
      "...1\n",
      "..1.\n",
      ".1..\n"
     ]
    }
   ],
   "source": [
    "print('SparsePCA')\n",
    "for i in range(dataset.nb_questions):\n",
    "    print ''.join('1' if VT.T[i,j] else '.' for j in range(NB_COMPONENTS))\n",
    "print('NMF', nmf.reconstruction_err_)\n",
    "for i in range(dataset.nb_questions):\n",
    "    print ''.join('1' if H.T[i,j] > 0.5 else '.' for j in range(NB_COMPONENTS))\n",
    "# print('Original')\n",
    "# q.display_qmatrix()"
   ]
  },
  {
   "cell_type": "code",
   "execution_count": 32,
   "metadata": {
    "collapsed": false
   },
   "outputs": [
    {
     "data": {
      "text/plain": [
       "[[True, False],\n",
       " [True, True],\n",
       " [True, False],\n",
       " [True, False],\n",
       " [False, True],\n",
       " [True, True],\n",
       " [False, True]]"
      ]
     },
     "execution_count": 32,
     "metadata": {},
     "output_type": "execute_result"
    }
   ],
   "source": [
    "q_matrix = np.hstack((np.ones((7, 1)), H.T > 0.5)).tolist()  # Add column of ones\n",
    "q_matrix = (H.T > 0.5).tolist()\n",
    "q_matrix"
   ]
  },
  {
   "cell_type": "code",
   "execution_count": 33,
   "metadata": {
    "collapsed": false
   },
   "outputs": [
    {
     "name": "stdout",
     "output_type": "stream",
     "text": [
      "prefix is now new-fraction0\n",
      "prefix is now new-fraction1\n",
      "prefix is now new-fraction2\n",
      "prefix is now new-fraction3\n",
      "prefix is now new-fraction4\n",
      "prefix is now new-fraction0\n"
     ]
    }
   ],
   "source": [
    "\"\"\"newQ = []\n",
    "for i in range(20):\n",
    "    newQ.append([int(H.T[i,j] != 0) for j in range(8)])\n",
    "print(newQ)\"\"\"\n",
    "np.vstack\n",
    "q = QMatrix(NB_COMPONENTS, q_matrix)\n",
    "q.save('qmatrix-banach')"
   ]
  },
  {
   "cell_type": "code",
   "execution_count": 6,
   "metadata": {
    "collapsed": false
   },
   "outputs": [
    {
     "name": "stdout",
     "output_type": "stream",
     "text": [
      "prefix is now new-fraction0\n",
      "prefix is now new-fraction1\n",
      "prefix is now new-fraction2\n",
      "prefix is now new-fraction3\n",
      "prefix is now new-fraction4\n",
      "prefix is now new-fraction0\n",
      "...1.11. 0.02979505 0.08946052\n",
      "...1..1. 0.01601667 0.04147141\n",
      "...1..1. 2.772346e-11 0.13408707\n",
      ".11.1.1. 0.2235015 0.10991876\n",
      ".1.1..11 0.3007612 0.17230903\n",
      "......1. 0.08970582 0.04372639\n",
      "11....1. 0.02482125 0.19661928\n",
      "......1. 0.4429577 0.18196447\n",
      ".1...... 0.2605348 0.24741055\n",
      ".1..1.11 0.02872189 0.21351503\n",
      ".1..1.1. 0.06562704 0.08178137\n",
      "......11 0.1268996 0.04062558\n",
      ".1.11.1. 0.0129448 0.33467872\n",
      ".1....1. 0.05955208 0.06106003\n",
      "1.....1. 0.03120044 0.1053709\n",
      ".1....1. 0.1069398 0.11124951\n",
      ".1..1.1. 0.03849446 0.13796801\n",
      ".1..111. 0.119356 0.1379775\n",
      "111.1.1. 0.02237506 0.24050069\n",
      ".11.1.1. 0.01254802 0.15720784\n"
     ]
    },
    {
     "data": {
      "text/plain": [
       "56"
      ]
     },
     "execution_count": 6,
     "metadata": {},
     "output_type": "execute_result"
    }
   ],
   "source": [
    "q = QMatrix()\n",
    "q.load('qmatrix-fraction')\n",
    "q.display_qmatrix()\n",
    "sum(map(sum, q.Q))"
   ]
  },
  {
   "cell_type": "code",
   "execution_count": 37,
   "metadata": {
    "collapsed": false
   },
   "outputs": [
    {
     "data": {
      "text/plain": [
       "'new-fraction'"
      ]
     },
     "execution_count": 37,
     "metadata": {},
     "output_type": "execute_result"
    }
   ],
   "source": [
    "from my_io import PREFIX\n",
    "PREFIX"
   ]
  },
  {
   "cell_type": "code",
   "execution_count": null,
   "metadata": {
    "collapsed": true
   },
   "outputs": [],
   "source": []
  }
 ],
 "metadata": {
  "kernelspec": {
   "display_name": "Python 2",
   "language": "python",
   "name": "python2"
  },
  "language_info": {
   "codemirror_mode": {
    "name": "ipython",
    "version": 2
   },
   "file_extension": ".py",
   "mimetype": "text/x-python",
   "name": "python",
   "nbconvert_exporter": "python",
   "pygments_lexer": "ipython2",
   "version": "2.7.10"
  }
 },
 "nbformat": 4,
 "nbformat_minor": 0
}
